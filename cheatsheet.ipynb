{
 "cells": [
  {
   "cell_type": "markdown",
   "id": "ea27a810",
   "metadata": {},
   "source": [
    "# DataFrame'i Keşfetme"
   ]
  },
  {
   "cell_type": "markdown",
   "id": "c1ef8da3",
   "metadata": {},
   "source": [
    "+ pandas.DataFrame.head() = Veri setinin, girilen ilk 'n' satırını döndürür.\n",
    "\n",
    "Tutorial = https://pandas.pydata.org/docs/reference/api/pandas.DataFrame.head.html"
   ]
  },
  {
   "cell_type": "markdown",
   "id": "e6e60cc2",
   "metadata": {},
   "source": [
    "+ pandas.DataFrame.tail() = Veri setinin, girilen son 'n' satırını döndürür.\n",
    "\n",
    "Tutorial = https://pandas.pydata.org/docs/reference/api/pandas.DataFrame.tail.html"
   ]
  },
  {
   "cell_type": "markdown",
   "id": "5fb30784",
   "metadata": {},
   "source": [
    "+ pandas.DataFrame.info() = Veri setinin hızlı bir özetini sağlar. Veri setindeki sütunları, sütunların veri tiplerini döndürür.\n",
    "\n",
    "Tutorial = https://pandas.pydata.org/docs/reference/api/pandas.DataFrame.info.html"
   ]
  },
  {
   "cell_type": "markdown",
   "id": "a7ad2999",
   "metadata": {},
   "source": [
    "+ pandas.DataFrame.shape() = Veri setinin kaç satır ve sütundan oluştuğunu döndürür.\n",
    "\n",
    "Tutorial = https://pandas.pydata.org/pandas-docs/stable/reference/api/pandas.DataFrame.shape.html?highlight=shape"
   ]
  },
  {
   "cell_type": "markdown",
   "id": "e9a9cdbe",
   "metadata": {},
   "source": [
    "+ pandas.DataFrame.describe() = Veri setinin tanımlayıcı (descriptive) istatistiklerini hesaplar.\n",
    "\n",
    "Tutorial = https://pandas.pydata.org/docs/reference/api/pandas.DataFrame.describe.html"
   ]
  },
  {
   "cell_type": "markdown",
   "id": "77aa4ad1",
   "metadata": {},
   "source": [
    "+ pandas.DataFrame.values = Veri setindeki değerleri döndürür. Sütün isimlerini ortadan kaldırır.\n",
    "\n",
    "Tutorial = https://pandas.pydata.org/pandas-docs/stable/reference/api/pandas.DataFrame.values.html?highlight=values#pandas.DataFrame.values"
   ]
  },
  {
   "cell_type": "markdown",
   "id": "2869b85f",
   "metadata": {},
   "source": [
    "+ pandas.DataFrame.columns = Veri setindeki sütunların adlarını döndürür.\n",
    "\n",
    "Tutorial = https://pandas.pydata.org/pandas-docs/stable/reference/api/pandas.DataFrame.columns.html?highlight=columns#pandas.DataFrame.columns"
   ]
  },
  {
   "cell_type": "markdown",
   "id": "26aea50f",
   "metadata": {},
   "source": [
    "+ pandas.DataFrame.index = Veri setindeki satır etiketlerini döndürür.\n",
    "\n",
    "Tutorial = https://pandas.pydata.org/pandas-docs/stable/reference/api/pandas.DataFrame.index.html?highlight=index#pandas.DataFrame.index"
   ]
  },
  {
   "cell_type": "markdown",
   "id": "8908e2ac",
   "metadata": {},
   "source": [
    "# Sorting and Subsetting (Sıralama ve Altkümeleme)"
   ]
  },
  {
   "cell_type": "markdown",
   "id": "9a050824",
   "metadata": {},
   "source": [
    "+ pandas.DataFrame.sort_values() = Veri setinde, istenilen sütunu artan ya da azalan sırada sıralar. \n",
    "\n",
    "Tutorial = https://pandas.pydata.org/docs/reference/api/pandas.DataFrame.sort_values.html"
   ]
  },
  {
   "cell_type": "markdown",
   "id": "c62e19c3",
   "metadata": {},
   "source": [
    "+ pandas.DataFrame.isin() = Herhangi bir değerin veri setinde olup olmadığını sorgulamamızı sağlar. \n",
    "\n",
    "Tutorial = https://pandas.pydata.org/docs/reference/api/pandas.DataFrame.isin.html"
   ]
  },
  {
   "cell_type": "markdown",
   "id": "5db34b74",
   "metadata": {},
   "source": [
    "# Aggregating DataFrames (Veri Çerçevelerini Toplama)"
   ]
  },
  {
   "cell_type": "markdown",
   "id": "ae799e7d",
   "metadata": {},
   "source": [
    "+ Ortalama, standart sapma, varyans gibi fonksiyonları buraya koymakla uğraşmayacağım. Onları hatırlaması güç değil çünkü."
   ]
  },
  {
   "cell_type": "markdown",
   "id": "fce60cf0",
   "metadata": {},
   "source": [
    "+ pandas.DataFrame.cumsum() = Veri setindeki kümülatif toplamı döndürür.\n",
    "\n",
    "Tutorial = https://pandas.pydata.org/pandas-docs/stable/reference/api/pandas.DataFrame.cumsum.html?highlight=cumsum#pandas.DataFrame.cumsum"
   ]
  },
  {
   "cell_type": "markdown",
   "id": "df17719f",
   "metadata": {},
   "source": [
    "+ pandas.DataFrame.agg() = Veri setinde, belirtilen sütun üzerinde matematiksel işlem yapmaya yarar ve yapılan işlem o sütundaki bütün satırları etkiler.\n",
    "\n",
    "Tutorial = https://pandas.pydata.org/pandas-docs/stable/reference/api/pandas.DataFrame.agg.html?highlight=agg#pandas.DataFrame.agg"
   ]
  },
  {
   "cell_type": "markdown",
   "id": "0bff7fe5",
   "metadata": {},
   "source": [
    "# Counting (Sayma, Sayım)"
   ]
  },
  {
   "cell_type": "markdown",
   "id": "08fbcc7b",
   "metadata": {},
   "source": [
    "+ pandas.DataFrame.value_counts() = Veri setindeki benzersiz değerleri döndürür.\n",
    "\n",
    "Tutorial = https://pandas.pydata.org/docs/reference/api/pandas.DataFrame.value_counts.html?highlight=value_counts"
   ]
  },
  {
   "cell_type": "markdown",
   "id": "896dfa6c",
   "metadata": {},
   "source": [
    "+ pandas.DataFrame.drop_duplicates() = Veri setindeki tekrar eden satırları kaldırır.\n",
    "\n",
    "Tutorial =  https://pandas.pydata.org/docs/reference/api/pandas.DataFrame.drop_duplicates.html"
   ]
  },
  {
   "cell_type": "markdown",
   "id": "1dc05d56",
   "metadata": {},
   "source": [
    "# Verileri Gruplandırma"
   ]
  },
  {
   "cell_type": "markdown",
   "id": "cc4ec5b0",
   "metadata": {},
   "source": [
    "+ pandas.DataFrame.groupby() = Veri setini 1 veya daha fazla sütuna göre gruplandırmak için kullanılır.\n",
    "\n",
    "Tutorial = https://pandas.pydata.org/docs/reference/api/pandas.DataFrame.groupby.html"
   ]
  },
  {
   "cell_type": "markdown",
   "id": "f394a826",
   "metadata": {},
   "source": [
    "# Pivot Tablosu"
   ]
  },
  {
   "cell_type": "markdown",
   "id": "0715b198",
   "metadata": {},
   "source": [
    "+ Veri setindeki verileri dönüştürmek ve özetlemek için kullanılır. Veri setindeki bir veya daha fazla sütuna göre tablo benzeri bir yapı oluşturur.\n",
    "\n",
    "Tutorial = https://pandas.pydata.org/docs/reference/api/pandas.pivot_table.html"
   ]
  },
  {
   "cell_type": "markdown",
   "id": "fac899bd",
   "metadata": {},
   "source": [
    "# Slicing and Indexing DataFrame (DataFrame'i Dilimleme ve İndeksleme)"
   ]
  },
  {
   "cell_type": "markdown",
   "id": "cf8a1342",
   "metadata": {},
   "source": [
    "+ pandas.DataFrame.set_index() = Veri setindeki mevcut sütunları, satır indexi olarak ayarlar.\n",
    "\n",
    "Tutorial = https://pandas.pydata.org/docs/reference/api/pandas.DataFrame.set_index.html"
   ]
  },
  {
   "cell_type": "markdown",
   "id": "81b77a5e",
   "metadata": {},
   "source": [
    "+ pandas.DataFrame.reset_index() = Satır indexi olarak ayarlanmış sütunları tekrardan eski haline döndürür.\n",
    "\n",
    "Tutorial = https://pandas.pydata.org/docs/reference/api/pandas.DataFrame.reset_index.html"
   ]
  },
  {
   "cell_type": "markdown",
   "id": "9d7150d1",
   "metadata": {},
   "source": [
    "+ pandas.DataFrame.sort_index() = Sütunları dizin değerlerine göre sıralar.\n",
    "\n",
    "Tutorial = https://pandas.pydata.org/docs/reference/api/pandas.DataFrame.sort_index.html"
   ]
  },
  {
   "cell_type": "markdown",
   "id": "5457ed17",
   "metadata": {},
   "source": [
    "+ pandas.DataFrame.loc[:] = Etiket veya indeks değerlerine dayalı olarak satır veya sütun seçimi yapmak için kullanılır. Bu operatör, veri setinin belirli bir satır veya sütununa erişmek veya belirli bir dilimi seçmek için kullanılır.\n",
    "\n",
    "Tutorial =  https://pandas.pydata.org/docs/reference/api/pandas.DataFrame.loc.html"
   ]
  },
  {
   "cell_type": "markdown",
   "id": "696eeec4",
   "metadata": {},
   "source": [
    "+ pandas.DataFrame.ilo[:] = Veri setinde satır veya sütun numarasına göre seçim yapmayı sağlar.\n",
    "\n",
    "Tutorial = https://pandas.pydata.org/docs/reference/api/pandas.DataFrame.iloc.html"
   ]
  },
  {
   "cell_type": "markdown",
   "id": "d55bbb21",
   "metadata": {},
   "source": [
    "# Missing Values (Kayıp Değerler) "
   ]
  },
  {
   "cell_type": "markdown",
   "id": "8f003ebc",
   "metadata": {},
   "source": [
    "+ pandas.DataFrame.isna() = Veri setindeki değerlerin eksik (NaN) veya null değer olup olmadığını kontrol etmek için kullanılır. Bu işlev, her bir hücreyi tek tek kontrol eder ve eksik değer varsa True, eksik değer yoksa False döndürür. Her bir hücre için True ya da False döndüreceği için büyük veri setlerinde kullanışsız olabilir. Ancak sonuna 'sum()' işlevi eklendiğinde her sütunda kaç tane kayıp veri olduğunu gösterir.\n",
    "\n",
    "Tutorial = https://pandas.pydata.org/docs/reference/api/pandas.DataFrame.isna.html"
   ]
  },
  {
   "cell_type": "markdown",
   "id": "b525b591",
   "metadata": {},
   "source": [
    "+ pandas.DataFrame.dropna() = Kayıp verileri bırakmayı, silmeyi sağlar.\n",
    "\n",
    "Tutorial =  https://pandas.pydata.org/docs/reference/api/pandas.DataFrame.dropna.html"
   ]
  },
  {
   "cell_type": "markdown",
   "id": "936d923d",
   "metadata": {},
   "source": [
    "+ pandas.DataFrame.fillna() = Kayıp verileri (NA/null/NaN) belirtilen değerle değiştirir.\n",
    "\n",
    "Tutorial = https://pandas.pydata.org/docs/reference/api/pandas.DataFrame.fillna.html?highlight=fillna#pandas.DataFrame.fillna"
   ]
  },
  {
   "cell_type": "markdown",
   "id": "5d28eea8",
   "metadata": {},
   "source": [
    "# Data Type Constraints (Veri Tipi Kısıtlamaları)"
   ]
  },
  {
   "cell_type": "markdown",
   "id": "c1d7400d",
   "metadata": {},
   "source": [
    "+ pandas.DataFrame.dtypes = Veri setindeki sütunların veri tiplerini döndüren bir özelliktir. Bu özellik, her sütunun hangi veri tipine sahip olduğunu belirlemek için kullanılır.\n",
    "\n",
    "Tutorial = https://pandas.pydata.org/docs/reference/api/pandas.DataFrame.dtypes.html"
   ]
  },
  {
   "cell_type": "markdown",
   "id": "3a507d8f",
   "metadata": {},
   "source": [
    "+ pandas.DataFrame.astype = Veri setindeki sütunların veri tiplerini değiştirmek için kullanılır.\n",
    "\n",
    "Tutorial = https://pandas.pydata.org/docs/reference/api/pandas.DataFrame.astype.html"
   ]
  },
  {
   "cell_type": "markdown",
   "id": "7357badf",
   "metadata": {},
   "source": [
    "# Data Range Constraints (Veri Aralığı Kısıtlamaları)"
   ]
  },
  {
   "cell_type": "markdown",
   "id": "ff2812c8",
   "metadata": {},
   "source": [
    "+ pandas.DataFrame.drop() = Veri setindeki belirli satır veya sütunları çıkarmak veya silmek için kullanılır. Bu işlev, veri setinde istenmeyen satırları veya sütunları kaldırmak için kullanışlıdır.\n",
    "\n",
    "Tutorial = https://pandas.pydata.org/docs/reference/api/pandas.DataFrame.drop.html"
   ]
  },
  {
   "cell_type": "markdown",
   "id": "c20a645b",
   "metadata": {},
   "source": [
    "# Uniqueness Constraints (Benzersizlik Kısıtlamaları)"
   ]
  },
  {
   "cell_type": "markdown",
   "id": "932a32f9",
   "metadata": {},
   "source": [
    "+ pandas.DataFrame.duplicated() = Veri setindeki tekrarlanan (duplicated) satırları tespit etmek için kullanılır. Bu işlev, her bir satırın, daha önceki satırlarla aynı olduğunu kontrol eder ve tekrarlanan satırları belirlemek için bir Boolean serisi döndürür.\n",
    "\n",
    "Tutorial = https://pandas.pydata.org/docs/reference/api/pandas.DataFrame.duplicated.html"
   ]
  },
  {
   "cell_type": "markdown",
   "id": "c3c0b773",
   "metadata": {},
   "source": [
    "+ pandas.DataFrame.drop_duplicates() = Veri setindeki tekrarlanan satırları bırakmayı, silmeyi sağlar.\n",
    "\n",
    "Tutorial =  https://pandas.pydata.org/docs/reference/api/pandas.DataFrame.drop_duplicates.html"
   ]
  },
  {
   "cell_type": "markdown",
   "id": "3959742a",
   "metadata": {},
   "source": [
    "# Membership Constraints (Üyelik Kısıtlamaları)"
   ]
  },
  {
   "cell_type": "markdown",
   "id": "76152cf3",
   "metadata": {},
   "source": [
    "+ pandas.DataFrame.unique() = Veri setinde (pandas serisi), sütunlardaki benzersiz değerleri döndürür. \n",
    "\n",
    "Tutorial = https://pandas.pydata.org/docs/reference/api/pandas.unique.html"
   ]
  },
  {
   "cell_type": "markdown",
   "id": "0dcf7b79",
   "metadata": {},
   "source": [
    "# Categorical Variables (Kategorik Değişkenler)"
   ]
  },
  {
   "cell_type": "markdown",
   "id": "5566be30",
   "metadata": {},
   "source": [
    "+ pandas.DataFrame.cut() = Belirli bir veri serisini, kullanıcı tarafından tanımlanan aralıklara veya kategorilere (bins) bölerek, bu aralıklara göre yeni bir kategorik değişken oluşturur. Bu işlev, sürekli bir değişkeni kesikli kategorilere dönüştürmek için kullanılır.\n",
    "\n",
    "Tutorial = https://pandas.pydata.org/docs/reference/api/pandas.cut.html"
   ]
  },
  {
   "cell_type": "markdown",
   "id": "b82dec0f",
   "metadata": {},
   "source": [
    "+ pandas.DataFrame.qcut() = belirli bir veri serisini, kullanıcı tarafından belirlenen sayıda eşit büyüklükteki aralıklara bölerek, bu aralıklara göre yeni bir kategorik değişken oluşturur. Bu işlev, sürekli bir değişkeni eşit büyüklükteki kümeler veya quantile'lara ayırmak için kullanılır.\n",
    "\n",
    "Tutorial = https://pandas.pydata.org/docs/reference/api/pandas.qcut.html"
   ]
  },
  {
   "cell_type": "markdown",
   "id": "6abe6f6d",
   "metadata": {},
   "source": [
    "# Data Merge (Veri Birleştirme)"
   ]
  },
  {
   "cell_type": "markdown",
   "id": "09717793",
   "metadata": {},
   "source": [
    "+ pandas.DataFrame.merge() = Farklı veri setlerini, ortak sütunlarda birleştirmek için kullanılır.\n",
    "\n",
    "Tutorial = https://pandas.pydata.org/docs/reference/api/pandas.DataFrame.merge.html"
   ]
  },
  {
   "cell_type": "markdown",
   "id": "8e0b0789",
   "metadata": {},
   "source": [
    "# Data Reshaping (Veriyi Yeniden Şekillendirme)"
   ]
  },
  {
   "cell_type": "markdown",
   "id": "1fd09698",
   "metadata": {},
   "source": [
    "+ pandas.DataFrame.transpose() = Satırları sütun, sütunları satıra dönüştürmeyi sağlar. \n",
    "\n",
    "Tutorial = https://pandas.pydata.org/docs/reference/api/pandas.DataFrame.transpose.html"
   ]
  },
  {
   "cell_type": "markdown",
   "id": "76005375",
   "metadata": {},
   "source": [
    "+ pandas.DataFrame.melt() = Veri setini 'wide' formattan 'long' formata şekillendirmemizi sağlar.\n",
    "\n",
    "Tutorial = https://pandas.pydata.org/docs/reference/api/pandas.melt.html"
   ]
  },
  {
   "cell_type": "markdown",
   "id": "7f9a05cf",
   "metadata": {},
   "source": [
    "+ pandas.DataFrame.wide_to_long = Veri setini 'wide' formattan 'long' formata şekillendirmemizi sağlar. Melt fonksiyonunun özelleştirilmiş sürümüdür ve daha karmaşık dönüşümler için daha fazla esneklik sağlar.\n",
    "\n",
    "Tutorial = https://pandas.pydata.org/docs/reference/api/pandas.wide_to_long.html"
   ]
  },
  {
   "cell_type": "markdown",
   "id": "c1bba2e3",
   "metadata": {},
   "source": [
    "+ pandas.DataFrame.pivot() = Veri setini 'long' formattan 'wide' formata şekillendirmemizi sağlar.\n",
    "\n",
    "Tutorial = https://pandas.pydata.org/docs/reference/api/pandas.DataFrame.pivot.html"
   ]
  },
  {
   "cell_type": "markdown",
   "id": "09d1c5c9",
   "metadata": {},
   "source": [
    "+ pandas.DataFrame.pivot_table() = Veri setinin özet istatistiklerini hesaplamak ve dönüşümler yapmak için kullanılır. Bu işlev, veri setini bir tablodan diğer bir tabloya dönüştürür ve bu dönüşüm sırasında belirli bir şekilde özetlenmesini sağlar.\n",
    "\n",
    "Tutorial =  https://pandas.pydata.org/docs/reference/api/pandas.pivot_table.html"
   ]
  },
  {
   "cell_type": "markdown",
   "id": "e7c569a5",
   "metadata": {},
   "source": [
    "+ pandas.MultiIndex.from_arrays() = Oluşturulan yeni sütunların satır indeksi olmasını sağlar.\n",
    "\n",
    "Tutorial = https://pandas.pydata.org/docs/reference/api/pandas.MultiIndex.from_arrays.html"
   ]
  },
  {
   "cell_type": "markdown",
   "id": "2a70237b",
   "metadata": {},
   "source": [
    "+ pandas.DataFrame.stack() = En içteki sütun dizinini, en içteki satır dizini olacak şekilde yeniden düzenler.\n",
    "\n",
    "Tutorial = https://pandas.pydata.org/docs/reference/api/pandas.DataFrame.stack.html"
   ]
  },
  {
   "cell_type": "markdown",
   "id": "095801a3",
   "metadata": {},
   "source": [
    "+ pandas.DataFrame.unstack() = En içteki satır dizinini, en içteki sütun dizini olacak şekilde yeniden düzenler.\n",
    "\n",
    "Tutorial = https://pandas.pydata.org/docs/reference/api/pandas.DataFrame.unstack.html"
   ]
  },
  {
   "cell_type": "markdown",
   "id": "8e765ebf",
   "metadata": {},
   "source": [
    "# Bir Veri Setini Görselleştirmek İçin:"
   ]
  },
  {
   "cell_type": "markdown",
   "id": "4846530f",
   "metadata": {},
   "source": [
    "Bir veri setini Python'da görselleştirmek ve analiz yapmak için aşağıdaki adımları izleyebilirsiniz:\n",
    "\n",
    "**1-** Veri setini yükleme: İlk adım, veri setinizi Python ortamına yüklemektir. Veri setinizi pandas, NumPy veya başka bir uygun kütüphane kullanarak bir veri çerçevesine veya diziye aktarabilirsiniz.\n",
    "\n",
    "**2-** Veri setini keşfetme: Veri setinizi daha iyi anlamak için ön keşif adımları atın. Veri setinizin boyutunu, sütun adlarını, veri tiplerini, eksik değerleri ve benzeri bilgileri kontrol edin. Bunun için pandas kütüphanesindeki işlevler kullanılabilir, örneğin, head(), info(), describe() gibi.\n",
    "\n",
    "**3-** Veri setini temizleme: Veri setinizde eksik değerler, aykırı değerler veya gereksiz sütunlar gibi sorunlar varsa, önceki adımlarda açıklanan veri temizleme adımlarını uygulayın.\n",
    "\n",
    "**4-** Veri setini analiz etme: Analiz yapmak istediğiniz konuya bağlı olarak çeşitli analiz tekniklerini kullanabilirsiniz. Örneğin, betimsel istatistikler hesaplama, gruplama ve toplama işlemleri, frekans dağılımı incelemesi, korelasyon analizi, zaman serisi analizi gibi teknikler uygulanabilir. Bunlar için pandas, NumPy ve diğer analiz kütüphanelerinde bulunan işlevleri kullanabilirsiniz.\n",
    "\n",
    "**5-** Veriyi görselleştirme: Veri setini görsel olarak temsil etmek ve analiz etmek için çeşitli görselleştirme tekniklerini kullanabilirsiniz. Bu, veri setinin özelliklerini daha iyi anlamak ve ilişkileri keşfetmek için çok değerli olabilir. Python'da görselleştirme yapmak için popüler kütüphanelerden bazıları matplotlib, Seaborn ve Plotly'dir.\n",
    "\n",
    "**6-** Görselleştirme adımları:\n",
    "\n",
    "    Basit Grafikler: Veri setindeki sütunların dağılımını veya ilişkilerini göstermek için çizgi grafikleri, histogramlar, dağılım grafikleri, bar grafikleri gibi basit grafikler kullanabilirsiniz. Bunun için matplotlib ve Seaborn kütüphaneleri kullanılabilir.\n",
    "\n",
    "    İleri Görselleştirmeler: İleri düzey grafiklerle daha karmaşık analizler yapmak isterseniz, Plotly ve ggplot gibi kütüphanelerden yararlanabilirsiniz. Bu grafikler interaktif olabilir ve daha fazla ayrıntı sunabilir.\n",
    "\n",
    "    Korelasyon Matrisleri: Veri setindeki değişkenler arasındaki ilişkileri göstermek için korelasyon matrisi kullanabilirsiniz. Bu, veri setindeki değişkenler arasındaki ilişkileri anlamak için heatmap (ısı haritası) veya pair plot gibi görselleştirmelerle gerçekleştirilebilir. Seaborn kütüphanesi bu tür görselleştirmeler için kullanışlıdır.\n",
    "\n",
    "    Zaman Serisi Grafikleri: Zaman serisi verilerini analiz etmek veya trendleri göstermek için zaman serisi grafikleri kullanabilirsiniz. Bu, zamanla değişen verileri çizgi grafikleri, nokta grafikleri veya alan grafikleri gibi görsellerle göstermek için kullanılır. Matplotlib veya Plotly kütüphaneleri bu tür grafikleri oluşturmak için kullanılabilir.\n",
    "\n",
    "    Interaktif Görselleştirmeler: Veri setinizi daha etkileşimli bir şekilde görselleştirmek isterseniz, Plotly kütüphanesi gibi araçları kullanabilirsiniz. Bu, kullanıcıların grafikleri etkileşimli olarak keşfetmelerine ve daha fazla ayrıntıya erişmelerine olanak tanır.\n",
    "\n",
    "**7-** Analiz sonuçlarını yorumlama: Görselleştirmeler ve analizler sonucunda elde ettiğiniz bilgileri yorumlayın. Grafikler ve analizler, veri setinizdeki desenleri, eğilimleri, ilişkileri veya aykırı değerleri belirlemenize yardımcı olabilir. Bu bilgileri kullanarak sorularınıza yanıtlar bulabilir veya kararlarınızı destekleyebilirsiniz.\n",
    "\n",
    "**8-** İleri analiz ve modelleme: Görselleştirmeler ve analizler, daha ileri analizler veya makine öğrenimi modelleri oluşturma sürecine geçiş yapmanızı gerektirebilir. Bu aşamada, veri setinizin üzerinde keşifsel analizler yapabilir, tahmin modelleri oluşturabilir veya daha derinlemesine analizler gerçekleştirebilirsiniz. Bunun için scikit-learn, TensorFlow veya Keras gibi makine öğrenimi kütüphanelerinden yararlanabilirsiniz.\n",
    "\n",
    "Yukarıdaki adımlar, veri setinizin görselleştirme ve analiz sürecinde genel bir yol haritası sağlar. Ancak, her veri seti benzersizdir ve ihtiyaçlarınıza göre farklı adımlar gerektirebilir."
   ]
  },
  {
   "cell_type": "markdown",
   "id": "b4099a2c",
   "metadata": {},
   "source": [
    "# Bir Veri Setini Temizlemek İçin:"
   ]
  },
  {
   "cell_type": "markdown",
   "id": "36843f2e",
   "metadata": {},
   "source": [
    "Bir veri setini temizlemek için genellikle aşağıdaki adımları izleyebilirsiniz:\n",
    "\n",
    "**1-** Veri setini yükleme: İlk adım, veri setinizi Python'a yüklemektir. Veri setinizin formatına bağlı olarak, pandas, NumPy veya başka bir kütüphane kullanarak veri setinizi bir veri çerçevesine veya diziye aktarabilirsiniz.\n",
    "\n",
    "**2-** Veri setini inceleme: Veri setinizin genel yapısını ve içeriğini anlamak için bazı ön inceleme adımları atmanız faydalı olacaktır. Bu adımda, veri setinizin boyutunu, sütunların adlarını, veri tiplerini, eksik değerleri ve benzeri bilgileri kontrol edebilirsiniz.\n",
    "\n",
    "**3-** Eksik değerleri ele alma: Veri setinde eksik değerler varsa, bu değerleri ele almanız gerekir. Eksik değerler, veri setinde boş veya NaN değerler olarak temsil edilebilir. Bu durumu ele almak için pandas kütüphanesinin sunduğu fillna() veya dropna() gibi işlevleri kullanabilirsiniz.\n",
    "\n",
    "**4-** Gereksiz sütunları kaldırma: Veri setinde analiz için gereksiz sütunlar varsa, bunları veri setinden kaldırabilirsiniz. drop() veya del gibi işlevlerle gereksiz sütunları çıkarabilirsiniz.\n",
    "\n",
    "**5-** Aykırı değerleri ele alma: Aykırı değerler, genellikle veri setindeki diğer değerlerden önemli ölçüde farklı olan değerlerdir. Aykırı değerlerle başa çıkmak için, istatistiksel yöntemler kullanabilirsiniz. Örneğin, Z-puanı veya IQR (Interquartile Range) gibi teknikler kullanabilirsiniz.\n",
    "\n",
    "**6-** Veri setini normalleştirme veya ölçeklendirme: Veri setindeki sayısal değerleri normalleştirmek veya ölçeklendirmek isteyebilirsiniz. Bu, veri setindeki değerlerin belirli bir aralığa sıkıştırılması veya standartlaştırılması anlamına gelir. Min-Max ölçeklendirme veya Z-skorlama gibi teknikler kullanılabilir.\n",
    "\n",
    "**7-** Kategorik verileri kodlama: Veri setinizde kategorik veriler varsa, bunları makine öğrenimi modelleriyle kullanmak için sayısal değerlere dönüştürmeniz gerekir. Bunun için pandas kütüphanesinde bulunan get_dummies() veya LabelEncoder gibi işlevleri kullanabilirsiniz.\n",
    "\n",
    "**8-** Diğer veri temizleme işlemleri (devamı): Önceki adımların yanı sıra, metin verileri için küçük/kapital harf dönüşümü yapabilirsiniz. Boşlukları yönetmek için strip() veya trim() gibi işlevleri kullanabilirsiniz. Tarih/saat verilerini uygun formata dönüştürmek için datetime kütüphanesinin sunduğu işlevleri kullanabilirsiniz.\n",
    "\n",
    "**9-** Veri setini yeniden şekillendirme: Veri setinizi analiz veya makine öğrenimi modellerine uygun hale getirmek için bazen veri setini yeniden şekillendirmeniz gerekebilir. Bu, veri setindeki sütunları birleştirme, gruplama veya pivotlama gibi işlemleri içerebilir. Pandas kütüphanesindeki işlevler (örneğin, merge(), groupby(), pivot_table()) bu amaçlar için kullanışlıdır.\n",
    "\n",
    "**10-** Veri setini kaydetme: Temizlenmiş veri setini başka bir dosyaya kaydetmek isteyebilirsiniz. Pandas kütüphanesinde bulunan to_csv() veya to_excel() gibi işlevleri kullanarak veri setini CSV veya Excel dosyası olarak kaydedebilirsiniz.\n",
    "\n",
    "\n",
    "\n",
    "**Madde 9'daki veri setini yeniden şekillendirme adımını ayrıntılandıralım:**\n",
    "\n",
    "Veri setini yeniden şekillendirme adımı, veri setini analiz veya modelleme için daha uygun bir yapıya dönüştürmek için kullanılır. Bu adımda genellikle aşağıdaki işlemleri gerçekleştirebilirsiniz:\n",
    "\n",
    "Sütun birleştirme (Column Concatenation): Veri setindeki farklı sütunları birleştirmek isteyebilirsiniz. Örneğin, \"ad\" ve \"soyad\" sütunlarını birleştirerek tek bir \"isim\" sütunu oluşturabilirsiniz. Bunun için pandas kütüphanesindeki concat() veya merge() gibi işlevleri kullanabilirsiniz.\n",
    "\n",
    "Sütun bölme (Column Splitting): Varolan bir sütunu birden fazla sütuna bölebilirsiniz. Örneğin, \"tarih-saat\" sütununu \"tarih\" ve \"saat\" olarak ayrı sütunlara bölebilirsiniz. Bu işlem için pandas kütüphanesindeki split() veya str.split() gibi işlevleri kullanabilirsiniz.\n",
    "\n",
    "Sütun dönüşümü (Column Transformation): Varolan sütunları farklı bir formata dönüştürebilirsiniz. Örneğin, bir sütundaki sayıları logaritmik bir ölçekte temsil etmek veya metin sütunlarındaki kelimeleri sayısal bir değere dönüştürmek gibi dönüşümler yapabilirsiniz.\n",
    "\n",
    "Gruplama (Grouping): Veri setindeki gözlemleri belirli bir sütuna veya sütunlara göre gruplamak isteyebilirsiniz. Örneğin, bir müşteri veri setindeki satın alma işlemlerini müşteri kimliklerine göre gruplamak isteyebilirsiniz. Bu işlem için pandas kütüphanesindeki groupby() işlevini kullanabilirsiniz.\n",
    "\n",
    "Pivotlama (Pivoting): Veri setindeki satır ve sütunları değiştirerek veriyi farklı bir şekilde düzenleyebilirsiniz. Örneğin, \"müşteri\", \"ürün\" ve \"satış miktarı\" sütunlarından oluşan bir veri setini \"müşteri\" sütununu indeks olarak kullanarak \"ürün\"leri sütunlara yerleştirebilirsiniz. Bu işlem için pandas kütüphanesindeki pivot_table() işlevini kullanabilirsiniz.\n",
    "\n",
    "Bu adımlar, veri setinin yapısına ve analiz amacınıza bağlı olarak değişebilir. Pandas kütüphanesindeki birçok işlev, veri setini yeniden şekillendirmek için kullanışlıdır."
   ]
  }
 ],
 "metadata": {
  "kernelspec": {
   "display_name": "Python 3 (ipykernel)",
   "language": "python",
   "name": "python3"
  },
  "language_info": {
   "codemirror_mode": {
    "name": "ipython",
    "version": 3
   },
   "file_extension": ".py",
   "mimetype": "text/x-python",
   "name": "python",
   "nbconvert_exporter": "python",
   "pygments_lexer": "ipython3",
   "version": "3.9.13"
  }
 },
 "nbformat": 4,
 "nbformat_minor": 5
}
